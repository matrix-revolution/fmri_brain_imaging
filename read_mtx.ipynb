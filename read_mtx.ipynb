{
 "cells": [
  {
   "cell_type": "code",
   "execution_count": 9,
   "metadata": {
    "collapsed": true
   },
   "outputs": [],
   "source": [
    "from scipy.io import mmread\n",
    "import numpy as np\n"
   ]
  },
  {
   "cell_type": "code",
   "execution_count": 13,
   "metadata": {
    "collapsed": false
   },
   "outputs": [],
   "source": [
    "wordfeature_transpose = mmread(\"fmri/word_feature_std.mtx\")\n",
    "np.savetxt('fmri/data/word_feature_std.txt', wordfeature_transpose)\n"
   ]
  },
  {
   "cell_type": "code",
   "execution_count": 14,
   "metadata": {
    "collapsed": false
   },
   "outputs": [
    {
     "ename": "NameError",
     "evalue": "name 'subject1_fmri_std' is not defined",
     "output_type": "error",
     "traceback": [
      "\u001b[0;31m---------------------------------------------------------------------------\u001b[0m",
      "\u001b[0;31mNameError\u001b[0m                                 Traceback (most recent call last)",
      "\u001b[0;32m<ipython-input-14-7e19309c439b>\u001b[0m in \u001b[0;36m<module>\u001b[0;34m()\u001b[0m\n\u001b[0;32m----> 1\u001b[0;31m \u001b[0msubject1_fmri_std\u001b[0m\u001b[0;34m.\u001b[0m\u001b[0mtest\u001b[0m \u001b[0;34m=\u001b[0m \u001b[0mmmread\u001b[0m\u001b[0;34m(\u001b[0m\u001b[0;34m'fmri/subject1_fmri_std.test.mtx'\u001b[0m\u001b[0;34m)\u001b[0m\u001b[0;34m\u001b[0m\u001b[0m\n\u001b[0m",
      "\u001b[0;31mNameError\u001b[0m: name 'subject1_fmri_std' is not defined"
     ]
    }
   ],
   "source": [
    "subject1_fmri_std.test = mmread('fmri/subject1_fmri_std.test.mtx')\n"
   ]
  },
  {
   "cell_type": "code",
   "execution_count": 16,
   "metadata": {
    "collapsed": false
   },
   "outputs": [],
   "source": [
    "Xtrain_transpose = mmread(\"fmri/subject1_fmri_std.train.mtx\")\n",
    "np.savetxt('fmri/data/Xtrain_transpose.txt', Xtrain_transpose)"
   ]
  },
  {
   "cell_type": "code",
   "execution_count": 19,
   "metadata": {
    "collapsed": false
   },
   "outputs": [],
   "source": [
    "Xp = 21764\n",
    "# Dimension of the output semantic feature\n",
    "Yp = 218\n",
    "# Number of training examples\n",
    "ntrain = 300\n",
    "# Number of test examples\n",
    "ntest = 60\n",
    "\n",
    "widtrain = np.loadtxt(\"fmri/subject1_wordid.train.mtx\")\n",
    "Ytrain_transpose = np.array([wordfeature_transpose[0][int(widtrain[j] - 1)] for j in range(ntrain)])\n",
    "np.savetxt('fmri/data/Ytrain_transpose', Ytrain_transpose)"
   ]
  },
  {
   "cell_type": "code",
   "execution_count": 22,
   "metadata": {
    "collapsed": false
   },
   "outputs": [],
   "source": [
    "Xtest_transpose = mmread(\"fmri/subject1_fmri_std.test.mtx\").T\n",
    "    # widtest is a 60 * 2 matrix.\n",
    "    # The first column contains the true word id that generates the fmri signal.\n",
    "    # The second column contains random selected word ids.\n",
    "widtest_transpose = mmread(\"fmri/subject1_wordid.test.mtx\").T\n",
    "Ytest_transpose = np.array([wordfeature_transpose[0][int(widtest_transpose[0][j]) - 1] for j in range(ntest)])"
   ]
  },
  {
   "cell_type": "code",
   "execution_count": 23,
   "metadata": {
    "collapsed": true
   },
   "outputs": [],
   "source": [
    "np.savetxt('fmri/data/Xtest_transpose', Xtest_transpose)\n",
    "np.savetxt('fmri/data/Ytest_transpose', Ytest_transpose)"
   ]
  },
  {
   "cell_type": "code",
   "execution_count": null,
   "metadata": {
    "collapsed": true
   },
   "outputs": [],
   "source": []
  }
 ],
 "metadata": {
  "kernelspec": {
   "display_name": "Python 3",
   "language": "python",
   "name": "python3"
  },
  "language_info": {
   "codemirror_mode": {
    "name": "ipython",
    "version": 3
   },
   "file_extension": ".py",
   "mimetype": "text/x-python",
   "name": "python",
   "nbconvert_exporter": "python",
   "pygments_lexer": "ipython3",
   "version": "3.4.3"
  }
 },
 "nbformat": 4,
 "nbformat_minor": 0
}
